{
 "cells": [
  {
   "cell_type": "code",
   "execution_count": 1,
   "id": "9fa020d8",
   "metadata": {},
   "outputs": [],
   "source": [
    "from seaborn import load_dataset\n",
    "from sklearn import preprocessing\n",
    "import numpy as np\n",
    "import pandas as pd\n",
    "from sklearn.preprocessing import MinMaxScaler\n",
    "from sklearn.preprocessing import OneHotEncoder\n",
    "from sklearn.compose import make_column_transformer\n",
    "from sklearn import metrics"
   ]
  },
  {
   "cell_type": "code",
   "execution_count": 2,
   "id": "a68854a6",
   "metadata": {},
   "outputs": [],
   "source": [
    "label_encoder = preprocessing.LabelEncoder()"
   ]
  },
  {
   "cell_type": "markdown",
   "id": "11fe704a",
   "metadata": {},
   "source": [
    "## Autor: Antonio Roberto P. de Lima Jr. \n",
    "## Git: https://github.com/AntonioJunior2222/\n",
    "## Linkdn: https://www.linkedin.com/in/antonior-junior/"
   ]
  },
  {
   "cell_type": "markdown",
   "id": "9fdf752d",
   "metadata": {},
   "source": [
    "## Dataset Titanic do Seaborn"
   ]
  },
  {
   "cell_type": "code",
   "execution_count": 3,
   "id": "bca830d6",
   "metadata": {
    "scrolled": true
   },
   "outputs": [
    {
     "data": {
      "text/html": [
       "<div>\n",
       "<style scoped>\n",
       "    .dataframe tbody tr th:only-of-type {\n",
       "        vertical-align: middle;\n",
       "    }\n",
       "\n",
       "    .dataframe tbody tr th {\n",
       "        vertical-align: top;\n",
       "    }\n",
       "\n",
       "    .dataframe thead th {\n",
       "        text-align: right;\n",
       "    }\n",
       "</style>\n",
       "<table border=\"1\" class=\"dataframe\">\n",
       "  <thead>\n",
       "    <tr style=\"text-align: right;\">\n",
       "      <th></th>\n",
       "      <th>survived</th>\n",
       "      <th>pclass</th>\n",
       "      <th>sex</th>\n",
       "      <th>age</th>\n",
       "      <th>sibsp</th>\n",
       "      <th>parch</th>\n",
       "      <th>fare</th>\n",
       "      <th>embarked</th>\n",
       "      <th>class</th>\n",
       "      <th>who</th>\n",
       "      <th>adult_male</th>\n",
       "      <th>deck</th>\n",
       "      <th>embark_town</th>\n",
       "      <th>alive</th>\n",
       "      <th>alone</th>\n",
       "    </tr>\n",
       "  </thead>\n",
       "  <tbody>\n",
       "    <tr>\n",
       "      <th>0</th>\n",
       "      <td>0</td>\n",
       "      <td>3</td>\n",
       "      <td>male</td>\n",
       "      <td>22.0</td>\n",
       "      <td>1</td>\n",
       "      <td>0</td>\n",
       "      <td>7.2500</td>\n",
       "      <td>S</td>\n",
       "      <td>Third</td>\n",
       "      <td>man</td>\n",
       "      <td>True</td>\n",
       "      <td>NaN</td>\n",
       "      <td>Southampton</td>\n",
       "      <td>no</td>\n",
       "      <td>False</td>\n",
       "    </tr>\n",
       "    <tr>\n",
       "      <th>1</th>\n",
       "      <td>1</td>\n",
       "      <td>1</td>\n",
       "      <td>female</td>\n",
       "      <td>38.0</td>\n",
       "      <td>1</td>\n",
       "      <td>0</td>\n",
       "      <td>71.2833</td>\n",
       "      <td>C</td>\n",
       "      <td>First</td>\n",
       "      <td>woman</td>\n",
       "      <td>False</td>\n",
       "      <td>C</td>\n",
       "      <td>Cherbourg</td>\n",
       "      <td>yes</td>\n",
       "      <td>False</td>\n",
       "    </tr>\n",
       "    <tr>\n",
       "      <th>2</th>\n",
       "      <td>1</td>\n",
       "      <td>3</td>\n",
       "      <td>female</td>\n",
       "      <td>26.0</td>\n",
       "      <td>0</td>\n",
       "      <td>0</td>\n",
       "      <td>7.9250</td>\n",
       "      <td>S</td>\n",
       "      <td>Third</td>\n",
       "      <td>woman</td>\n",
       "      <td>False</td>\n",
       "      <td>NaN</td>\n",
       "      <td>Southampton</td>\n",
       "      <td>yes</td>\n",
       "      <td>True</td>\n",
       "    </tr>\n",
       "    <tr>\n",
       "      <th>3</th>\n",
       "      <td>1</td>\n",
       "      <td>1</td>\n",
       "      <td>female</td>\n",
       "      <td>35.0</td>\n",
       "      <td>1</td>\n",
       "      <td>0</td>\n",
       "      <td>53.1000</td>\n",
       "      <td>S</td>\n",
       "      <td>First</td>\n",
       "      <td>woman</td>\n",
       "      <td>False</td>\n",
       "      <td>C</td>\n",
       "      <td>Southampton</td>\n",
       "      <td>yes</td>\n",
       "      <td>False</td>\n",
       "    </tr>\n",
       "    <tr>\n",
       "      <th>4</th>\n",
       "      <td>0</td>\n",
       "      <td>3</td>\n",
       "      <td>male</td>\n",
       "      <td>35.0</td>\n",
       "      <td>0</td>\n",
       "      <td>0</td>\n",
       "      <td>8.0500</td>\n",
       "      <td>S</td>\n",
       "      <td>Third</td>\n",
       "      <td>man</td>\n",
       "      <td>True</td>\n",
       "      <td>NaN</td>\n",
       "      <td>Southampton</td>\n",
       "      <td>no</td>\n",
       "      <td>True</td>\n",
       "    </tr>\n",
       "  </tbody>\n",
       "</table>\n",
       "</div>"
      ],
      "text/plain": [
       "   survived  pclass     sex   age  sibsp  parch     fare embarked  class  \\\n",
       "0         0       3    male  22.0      1      0   7.2500        S  Third   \n",
       "1         1       1  female  38.0      1      0  71.2833        C  First   \n",
       "2         1       3  female  26.0      0      0   7.9250        S  Third   \n",
       "3         1       1  female  35.0      1      0  53.1000        S  First   \n",
       "4         0       3    male  35.0      0      0   8.0500        S  Third   \n",
       "\n",
       "     who  adult_male deck  embark_town alive  alone  \n",
       "0    man        True  NaN  Southampton    no  False  \n",
       "1  woman       False    C    Cherbourg   yes  False  \n",
       "2  woman       False  NaN  Southampton   yes   True  \n",
       "3  woman       False    C  Southampton   yes  False  \n",
       "4    man        True  NaN  Southampton    no   True  "
      ]
     },
     "execution_count": 3,
     "metadata": {},
     "output_type": "execute_result"
    }
   ],
   "source": [
    "df_titanic = load_dataset('titanic')\n",
    "df_titanic.head(5)"
   ]
  },
  {
   "cell_type": "markdown",
   "id": "dafe687a",
   "metadata": {},
   "source": [
    "### Alvo: Survived"
   ]
  },
  {
   "cell_type": "code",
   "execution_count": 4,
   "id": "3f168038",
   "metadata": {},
   "outputs": [
    {
     "name": "stdout",
     "output_type": "stream",
     "text": [
      "<class 'pandas.core.frame.DataFrame'>\n",
      "RangeIndex: 891 entries, 0 to 890\n",
      "Data columns (total 15 columns):\n",
      " #   Column       Non-Null Count  Dtype   \n",
      "---  ------       --------------  -----   \n",
      " 0   survived     891 non-null    int64   \n",
      " 1   pclass       891 non-null    int64   \n",
      " 2   sex          891 non-null    object  \n",
      " 3   age          714 non-null    float64 \n",
      " 4   sibsp        891 non-null    int64   \n",
      " 5   parch        891 non-null    int64   \n",
      " 6   fare         891 non-null    float64 \n",
      " 7   embarked     889 non-null    object  \n",
      " 8   class        891 non-null    category\n",
      " 9   who          891 non-null    object  \n",
      " 10  adult_male   891 non-null    bool    \n",
      " 11  deck         203 non-null    category\n",
      " 12  embark_town  889 non-null    object  \n",
      " 13  alive        891 non-null    object  \n",
      " 14  alone        891 non-null    bool    \n",
      "dtypes: bool(2), category(2), float64(2), int64(4), object(5)\n",
      "memory usage: 80.7+ KB\n"
     ]
    }
   ],
   "source": [
    "df_mod = df_titanic\n",
    "df_mod.info()"
   ]
  },
  {
   "cell_type": "markdown",
   "id": "e6de61d2",
   "metadata": {},
   "source": [
    "### _Tratamento dos Dados_"
   ]
  },
  {
   "cell_type": "markdown",
   "id": "b289520a",
   "metadata": {},
   "source": [
    "#### Usando Label Encoder para transformar 'alive' e 'class' em númericos, para assim checar se eles são iguais as colunas 'survived' e 'pclass'."
   ]
  },
  {
   "cell_type": "code",
   "execution_count": 5,
   "id": "616587cb",
   "metadata": {},
   "outputs": [],
   "source": [
    "df_mod['alive'] = label_encoder.fit_transform(df_mod['alive'])\n",
    "df_mod['class'] = label_encoder.fit_transform(df_mod['class'])"
   ]
  },
  {
   "cell_type": "code",
   "execution_count": 6,
   "id": "3645b6ea",
   "metadata": {},
   "outputs": [],
   "source": [
    "df_mod['class'] = np.where(df_mod['class'] == 2, 3, df_mod['class'])\n",
    "df_mod['class'] = np.where(df_mod['class'] == 1, 2, df_mod['class'])\n",
    "df_mod['class'] = np.where(df_mod['class'] == 0, 1, df_mod['class'])"
   ]
  },
  {
   "cell_type": "markdown",
   "id": "04c7f559",
   "metadata": {},
   "source": [
    "#### Ao olhar para os valores de 'embark_town' percebi que poderiam se tratar dos mesmos valores de 'embarked', sendo assim, converti a coluna para verificar."
   ]
  },
  {
   "cell_type": "code",
   "execution_count": 7,
   "id": "da32f66a",
   "metadata": {},
   "outputs": [
    {
     "data": {
      "text/plain": [
       "Southampton    644\n",
       "Cherbourg      168\n",
       "Queenstown      77\n",
       "Name: embark_town, dtype: int64"
      ]
     },
     "execution_count": 7,
     "metadata": {},
     "output_type": "execute_result"
    }
   ],
   "source": [
    "df_mod['embark_town'].value_counts()"
   ]
  },
  {
   "cell_type": "code",
   "execution_count": 8,
   "id": "83989e1b",
   "metadata": {},
   "outputs": [],
   "source": [
    "df_mod['embark_town'] = np.where(df_mod['embark_town'] == 'Southampton', 'S', df_mod['embark_town'])\n",
    "df_mod['embark_town'] = np.where(df_mod['embark_town'] == 'Cherbourg', 'C', df_mod['embark_town'])\n",
    "df_mod['embark_town'] = np.where(df_mod['embark_town'] == 'Queenstown', 'Q', df_mod['embark_town'])"
   ]
  },
  {
   "cell_type": "code",
   "execution_count": 9,
   "id": "776da543",
   "metadata": {},
   "outputs": [
    {
     "data": {
      "text/plain": [
       "True    891\n",
       "dtype: int64"
      ]
     },
     "execution_count": 9,
     "metadata": {},
     "output_type": "execute_result"
    }
   ],
   "source": [
    "check_if_same = df_mod['class']==df_mod['pclass']\n",
    "check_if_same.value_counts()"
   ]
  },
  {
   "cell_type": "code",
   "execution_count": 10,
   "id": "87dccf33",
   "metadata": {},
   "outputs": [
    {
     "data": {
      "text/plain": [
       "True    891\n",
       "dtype: int64"
      ]
     },
     "execution_count": 10,
     "metadata": {},
     "output_type": "execute_result"
    }
   ],
   "source": [
    "check_if_same = df_mod['alive']==df_mod['survived']\n",
    "check_if_same.value_counts()"
   ]
  },
  {
   "cell_type": "code",
   "execution_count": 11,
   "id": "d777aecf",
   "metadata": {},
   "outputs": [
    {
     "data": {
      "text/plain": [
       "True     889\n",
       "False      2\n",
       "dtype: int64"
      ]
     },
     "execution_count": 11,
     "metadata": {},
     "output_type": "execute_result"
    }
   ],
   "source": [
    "check_if_same = df_mod['embark_town']==df_mod['embarked']\n",
    "check_if_same.value_counts()"
   ]
  },
  {
   "cell_type": "markdown",
   "id": "4636f911",
   "metadata": {},
   "source": [
    "#### De fato as 3 colunas estavam repetidas. Decidi fazer a exclusão das mesmas."
   ]
  },
  {
   "cell_type": "code",
   "execution_count": 12,
   "id": "a03b208c",
   "metadata": {},
   "outputs": [],
   "source": [
    "df_mod.drop(columns = ['alive','embark_town','class','deck','adult_male'], inplace = True)"
   ]
  },
  {
   "cell_type": "markdown",
   "id": "275e8175",
   "metadata": {},
   "source": [
    "#### Quanto as colunas 'Age' e 'Fare': Por terem ranges de valores muito grandes, optei pela normalização utilizando o MinMaxScaler."
   ]
  },
  {
   "cell_type": "code",
   "execution_count": 13,
   "id": "91c596bc",
   "metadata": {},
   "outputs": [],
   "source": [
    "df_mod['age'] = MinMaxScaler().fit_transform(np.array(df_mod['age']).reshape(-1,1))\n",
    "df_mod['fare'] = MinMaxScaler().fit_transform(np.array(df_mod['fare']).reshape(-1,1))"
   ]
  },
  {
   "cell_type": "markdown",
   "id": "b7bd359c",
   "metadata": {},
   "source": [
    "#### Após isso decidi fazer utilizar o OneHotEncoder nas features categóricas."
   ]
  },
  {
   "cell_type": "code",
   "execution_count": 14,
   "id": "4e69889d",
   "metadata": {},
   "outputs": [],
   "source": [
    "column_transformer = make_column_transformer((OneHotEncoder(), ['sex','who','embarked']), remainder = 'passthrough')\n",
    "df_mod = column_transformer.fit_transform(df_mod)\n",
    "df_mod = pd.DataFrame(data=df_mod)"
   ]
  },
  {
   "cell_type": "markdown",
   "id": "59cb1f7d",
   "metadata": {},
   "source": [
    "#### Infelizmente foi necessário excluir algumas linhas por excesso de NaN's"
   ]
  },
  {
   "cell_type": "code",
   "execution_count": 15,
   "id": "0dc07a85",
   "metadata": {},
   "outputs": [],
   "source": [
    "df_mod.dropna(inplace = True)"
   ]
  },
  {
   "cell_type": "code",
   "execution_count": 16,
   "id": "3226261d",
   "metadata": {},
   "outputs": [
    {
     "name": "stdout",
     "output_type": "stream",
     "text": [
      "<class 'pandas.core.frame.DataFrame'>\n",
      "Int64Index: 714 entries, 0 to 890\n",
      "Data columns (total 16 columns):\n",
      " #   Column  Non-Null Count  Dtype \n",
      "---  ------  --------------  ----- \n",
      " 0   0       714 non-null    object\n",
      " 1   1       714 non-null    object\n",
      " 2   2       714 non-null    object\n",
      " 3   3       714 non-null    object\n",
      " 4   4       714 non-null    object\n",
      " 5   5       714 non-null    object\n",
      " 6   6       714 non-null    object\n",
      " 7   7       714 non-null    object\n",
      " 8   8       714 non-null    object\n",
      " 9   9       714 non-null    object\n",
      " 10  10      714 non-null    object\n",
      " 11  11      714 non-null    object\n",
      " 12  12      714 non-null    object\n",
      " 13  13      714 non-null    object\n",
      " 14  14      714 non-null    object\n",
      " 15  15      714 non-null    object\n",
      "dtypes: object(16)\n",
      "memory usage: 94.8+ KB\n"
     ]
    }
   ],
   "source": [
    "df_mod.info()"
   ]
  },
  {
   "cell_type": "code",
   "execution_count": 17,
   "id": "b36cf87c",
   "metadata": {},
   "outputs": [
    {
     "data": {
      "text/html": [
       "<div>\n",
       "<style scoped>\n",
       "    .dataframe tbody tr th:only-of-type {\n",
       "        vertical-align: middle;\n",
       "    }\n",
       "\n",
       "    .dataframe tbody tr th {\n",
       "        vertical-align: top;\n",
       "    }\n",
       "\n",
       "    .dataframe thead th {\n",
       "        text-align: right;\n",
       "    }\n",
       "</style>\n",
       "<table border=\"1\" class=\"dataframe\">\n",
       "  <thead>\n",
       "    <tr style=\"text-align: right;\">\n",
       "      <th></th>\n",
       "      <th>0</th>\n",
       "      <th>1</th>\n",
       "      <th>2</th>\n",
       "      <th>3</th>\n",
       "      <th>4</th>\n",
       "      <th>5</th>\n",
       "      <th>6</th>\n",
       "      <th>7</th>\n",
       "      <th>8</th>\n",
       "      <th>9</th>\n",
       "      <th>10</th>\n",
       "      <th>11</th>\n",
       "      <th>12</th>\n",
       "      <th>13</th>\n",
       "      <th>14</th>\n",
       "      <th>15</th>\n",
       "    </tr>\n",
       "  </thead>\n",
       "  <tbody>\n",
       "    <tr>\n",
       "      <th>0</th>\n",
       "      <td>0.0</td>\n",
       "      <td>1.0</td>\n",
       "      <td>0.0</td>\n",
       "      <td>1.0</td>\n",
       "      <td>0.0</td>\n",
       "      <td>0.0</td>\n",
       "      <td>0.0</td>\n",
       "      <td>1.0</td>\n",
       "      <td>0.0</td>\n",
       "      <td>0</td>\n",
       "      <td>3</td>\n",
       "      <td>0.271174</td>\n",
       "      <td>1</td>\n",
       "      <td>0</td>\n",
       "      <td>0.014151</td>\n",
       "      <td>False</td>\n",
       "    </tr>\n",
       "    <tr>\n",
       "      <th>1</th>\n",
       "      <td>1.0</td>\n",
       "      <td>0.0</td>\n",
       "      <td>0.0</td>\n",
       "      <td>0.0</td>\n",
       "      <td>1.0</td>\n",
       "      <td>1.0</td>\n",
       "      <td>0.0</td>\n",
       "      <td>0.0</td>\n",
       "      <td>0.0</td>\n",
       "      <td>1</td>\n",
       "      <td>1</td>\n",
       "      <td>0.472229</td>\n",
       "      <td>1</td>\n",
       "      <td>0</td>\n",
       "      <td>0.139136</td>\n",
       "      <td>False</td>\n",
       "    </tr>\n",
       "    <tr>\n",
       "      <th>2</th>\n",
       "      <td>1.0</td>\n",
       "      <td>0.0</td>\n",
       "      <td>0.0</td>\n",
       "      <td>0.0</td>\n",
       "      <td>1.0</td>\n",
       "      <td>0.0</td>\n",
       "      <td>0.0</td>\n",
       "      <td>1.0</td>\n",
       "      <td>0.0</td>\n",
       "      <td>1</td>\n",
       "      <td>3</td>\n",
       "      <td>0.321438</td>\n",
       "      <td>0</td>\n",
       "      <td>0</td>\n",
       "      <td>0.015469</td>\n",
       "      <td>True</td>\n",
       "    </tr>\n",
       "    <tr>\n",
       "      <th>3</th>\n",
       "      <td>1.0</td>\n",
       "      <td>0.0</td>\n",
       "      <td>0.0</td>\n",
       "      <td>0.0</td>\n",
       "      <td>1.0</td>\n",
       "      <td>0.0</td>\n",
       "      <td>0.0</td>\n",
       "      <td>1.0</td>\n",
       "      <td>0.0</td>\n",
       "      <td>1</td>\n",
       "      <td>1</td>\n",
       "      <td>0.434531</td>\n",
       "      <td>1</td>\n",
       "      <td>0</td>\n",
       "      <td>0.103644</td>\n",
       "      <td>False</td>\n",
       "    </tr>\n",
       "    <tr>\n",
       "      <th>4</th>\n",
       "      <td>0.0</td>\n",
       "      <td>1.0</td>\n",
       "      <td>0.0</td>\n",
       "      <td>1.0</td>\n",
       "      <td>0.0</td>\n",
       "      <td>0.0</td>\n",
       "      <td>0.0</td>\n",
       "      <td>1.0</td>\n",
       "      <td>0.0</td>\n",
       "      <td>0</td>\n",
       "      <td>3</td>\n",
       "      <td>0.434531</td>\n",
       "      <td>0</td>\n",
       "      <td>0</td>\n",
       "      <td>0.015713</td>\n",
       "      <td>True</td>\n",
       "    </tr>\n",
       "    <tr>\n",
       "      <th>...</th>\n",
       "      <td>...</td>\n",
       "      <td>...</td>\n",
       "      <td>...</td>\n",
       "      <td>...</td>\n",
       "      <td>...</td>\n",
       "      <td>...</td>\n",
       "      <td>...</td>\n",
       "      <td>...</td>\n",
       "      <td>...</td>\n",
       "      <td>...</td>\n",
       "      <td>...</td>\n",
       "      <td>...</td>\n",
       "      <td>...</td>\n",
       "      <td>...</td>\n",
       "      <td>...</td>\n",
       "      <td>...</td>\n",
       "    </tr>\n",
       "    <tr>\n",
       "      <th>885</th>\n",
       "      <td>1.0</td>\n",
       "      <td>0.0</td>\n",
       "      <td>0.0</td>\n",
       "      <td>0.0</td>\n",
       "      <td>1.0</td>\n",
       "      <td>0.0</td>\n",
       "      <td>1.0</td>\n",
       "      <td>0.0</td>\n",
       "      <td>0.0</td>\n",
       "      <td>0</td>\n",
       "      <td>3</td>\n",
       "      <td>0.484795</td>\n",
       "      <td>0</td>\n",
       "      <td>5</td>\n",
       "      <td>0.056848</td>\n",
       "      <td>False</td>\n",
       "    </tr>\n",
       "    <tr>\n",
       "      <th>886</th>\n",
       "      <td>0.0</td>\n",
       "      <td>1.0</td>\n",
       "      <td>0.0</td>\n",
       "      <td>1.0</td>\n",
       "      <td>0.0</td>\n",
       "      <td>0.0</td>\n",
       "      <td>0.0</td>\n",
       "      <td>1.0</td>\n",
       "      <td>0.0</td>\n",
       "      <td>0</td>\n",
       "      <td>2</td>\n",
       "      <td>0.334004</td>\n",
       "      <td>0</td>\n",
       "      <td>0</td>\n",
       "      <td>0.025374</td>\n",
       "      <td>True</td>\n",
       "    </tr>\n",
       "    <tr>\n",
       "      <th>887</th>\n",
       "      <td>1.0</td>\n",
       "      <td>0.0</td>\n",
       "      <td>0.0</td>\n",
       "      <td>0.0</td>\n",
       "      <td>1.0</td>\n",
       "      <td>0.0</td>\n",
       "      <td>0.0</td>\n",
       "      <td>1.0</td>\n",
       "      <td>0.0</td>\n",
       "      <td>1</td>\n",
       "      <td>1</td>\n",
       "      <td>0.233476</td>\n",
       "      <td>0</td>\n",
       "      <td>0</td>\n",
       "      <td>0.058556</td>\n",
       "      <td>True</td>\n",
       "    </tr>\n",
       "    <tr>\n",
       "      <th>889</th>\n",
       "      <td>0.0</td>\n",
       "      <td>1.0</td>\n",
       "      <td>0.0</td>\n",
       "      <td>1.0</td>\n",
       "      <td>0.0</td>\n",
       "      <td>1.0</td>\n",
       "      <td>0.0</td>\n",
       "      <td>0.0</td>\n",
       "      <td>0.0</td>\n",
       "      <td>1</td>\n",
       "      <td>1</td>\n",
       "      <td>0.321438</td>\n",
       "      <td>0</td>\n",
       "      <td>0</td>\n",
       "      <td>0.058556</td>\n",
       "      <td>True</td>\n",
       "    </tr>\n",
       "    <tr>\n",
       "      <th>890</th>\n",
       "      <td>0.0</td>\n",
       "      <td>1.0</td>\n",
       "      <td>0.0</td>\n",
       "      <td>1.0</td>\n",
       "      <td>0.0</td>\n",
       "      <td>0.0</td>\n",
       "      <td>1.0</td>\n",
       "      <td>0.0</td>\n",
       "      <td>0.0</td>\n",
       "      <td>0</td>\n",
       "      <td>3</td>\n",
       "      <td>0.396833</td>\n",
       "      <td>0</td>\n",
       "      <td>0</td>\n",
       "      <td>0.015127</td>\n",
       "      <td>True</td>\n",
       "    </tr>\n",
       "  </tbody>\n",
       "</table>\n",
       "<p>714 rows × 16 columns</p>\n",
       "</div>"
      ],
      "text/plain": [
       "      0    1    2    3    4    5    6    7    8  9  10        11 12 13  \\\n",
       "0    0.0  1.0  0.0  1.0  0.0  0.0  0.0  1.0  0.0  0  3  0.271174  1  0   \n",
       "1    1.0  0.0  0.0  0.0  1.0  1.0  0.0  0.0  0.0  1  1  0.472229  1  0   \n",
       "2    1.0  0.0  0.0  0.0  1.0  0.0  0.0  1.0  0.0  1  3  0.321438  0  0   \n",
       "3    1.0  0.0  0.0  0.0  1.0  0.0  0.0  1.0  0.0  1  1  0.434531  1  0   \n",
       "4    0.0  1.0  0.0  1.0  0.0  0.0  0.0  1.0  0.0  0  3  0.434531  0  0   \n",
       "..   ...  ...  ...  ...  ...  ...  ...  ...  ... .. ..       ... .. ..   \n",
       "885  1.0  0.0  0.0  0.0  1.0  0.0  1.0  0.0  0.0  0  3  0.484795  0  5   \n",
       "886  0.0  1.0  0.0  1.0  0.0  0.0  0.0  1.0  0.0  0  2  0.334004  0  0   \n",
       "887  1.0  0.0  0.0  0.0  1.0  0.0  0.0  1.0  0.0  1  1  0.233476  0  0   \n",
       "889  0.0  1.0  0.0  1.0  0.0  1.0  0.0  0.0  0.0  1  1  0.321438  0  0   \n",
       "890  0.0  1.0  0.0  1.0  0.0  0.0  1.0  0.0  0.0  0  3  0.396833  0  0   \n",
       "\n",
       "           14     15  \n",
       "0    0.014151  False  \n",
       "1    0.139136  False  \n",
       "2    0.015469   True  \n",
       "3    0.103644  False  \n",
       "4    0.015713   True  \n",
       "..        ...    ...  \n",
       "885  0.056848  False  \n",
       "886  0.025374   True  \n",
       "887  0.058556   True  \n",
       "889  0.058556   True  \n",
       "890  0.015127   True  \n",
       "\n",
       "[714 rows x 16 columns]"
      ]
     },
     "execution_count": 17,
     "metadata": {},
     "output_type": "execute_result"
    }
   ],
   "source": [
    "df_mod"
   ]
  },
  {
   "cell_type": "markdown",
   "id": "b2ee6100",
   "metadata": {},
   "source": [
    "#### Separação de Target e Features"
   ]
  },
  {
   "cell_type": "code",
   "execution_count": 18,
   "id": "ebf655b9",
   "metadata": {},
   "outputs": [],
   "source": [
    "X_tt = df_mod.loc[:,1:]\n",
    "y_tt = df_mod[0].astype(int)"
   ]
  },
  {
   "cell_type": "code",
   "execution_count": 19,
   "id": "ad86ea98",
   "metadata": {},
   "outputs": [],
   "source": [
    "from sklearn.model_selection import train_test_split"
   ]
  },
  {
   "cell_type": "code",
   "execution_count": 20,
   "id": "997be0bf",
   "metadata": {},
   "outputs": [],
   "source": [
    "X_train_tt, X_test_tt, y_train_tt, y_test_tt = train_test_split(X_tt, y_tt, test_size=0.2, random_state=None, stratify = y_tt) # 80% treino e 20% teste"
   ]
  },
  {
   "cell_type": "markdown",
   "id": "37f17ee6",
   "metadata": {},
   "source": [
    "#### Importação dos modelos escolhidos"
   ]
  },
  {
   "cell_type": "code",
   "execution_count": 21,
   "id": "faafaab7",
   "metadata": {},
   "outputs": [],
   "source": [
    "from sklearn.neighbors import KNeighborsClassifier\n",
    "from sklearn.tree import DecisionTreeClassifier\n",
    "model_Tree_1_tt = DecisionTreeClassifier(criterion = \"entropy\", max_depth = 5)\n",
    "model_Tree_2_tt = DecisionTreeClassifier(criterion = \"log_loss\", max_depth = 15)\n",
    "model_KNN_1_tt = KNeighborsClassifier(n_neighbors = 5, metric = \"euclidean\", algorithm = 'brute')\n",
    "model_KNN_2_tt = KNeighborsClassifier(n_neighbors = 15, metric = \"minkowski\", algorithm = 'ball_tree')"
   ]
  },
  {
   "cell_type": "code",
   "execution_count": 22,
   "id": "40134847",
   "metadata": {},
   "outputs": [
    {
     "data": {
      "text/html": [
       "<style>#sk-container-id-1 {color: black;background-color: white;}#sk-container-id-1 pre{padding: 0;}#sk-container-id-1 div.sk-toggleable {background-color: white;}#sk-container-id-1 label.sk-toggleable__label {cursor: pointer;display: block;width: 100%;margin-bottom: 0;padding: 0.3em;box-sizing: border-box;text-align: center;}#sk-container-id-1 label.sk-toggleable__label-arrow:before {content: \"▸\";float: left;margin-right: 0.25em;color: #696969;}#sk-container-id-1 label.sk-toggleable__label-arrow:hover:before {color: black;}#sk-container-id-1 div.sk-estimator:hover label.sk-toggleable__label-arrow:before {color: black;}#sk-container-id-1 div.sk-toggleable__content {max-height: 0;max-width: 0;overflow: hidden;text-align: left;background-color: #f0f8ff;}#sk-container-id-1 div.sk-toggleable__content pre {margin: 0.2em;color: black;border-radius: 0.25em;background-color: #f0f8ff;}#sk-container-id-1 input.sk-toggleable__control:checked~div.sk-toggleable__content {max-height: 200px;max-width: 100%;overflow: auto;}#sk-container-id-1 input.sk-toggleable__control:checked~label.sk-toggleable__label-arrow:before {content: \"▾\";}#sk-container-id-1 div.sk-estimator input.sk-toggleable__control:checked~label.sk-toggleable__label {background-color: #d4ebff;}#sk-container-id-1 div.sk-label input.sk-toggleable__control:checked~label.sk-toggleable__label {background-color: #d4ebff;}#sk-container-id-1 input.sk-hidden--visually {border: 0;clip: rect(1px 1px 1px 1px);clip: rect(1px, 1px, 1px, 1px);height: 1px;margin: -1px;overflow: hidden;padding: 0;position: absolute;width: 1px;}#sk-container-id-1 div.sk-estimator {font-family: monospace;background-color: #f0f8ff;border: 1px dotted black;border-radius: 0.25em;box-sizing: border-box;margin-bottom: 0.5em;}#sk-container-id-1 div.sk-estimator:hover {background-color: #d4ebff;}#sk-container-id-1 div.sk-parallel-item::after {content: \"\";width: 100%;border-bottom: 1px solid gray;flex-grow: 1;}#sk-container-id-1 div.sk-label:hover label.sk-toggleable__label {background-color: #d4ebff;}#sk-container-id-1 div.sk-serial::before {content: \"\";position: absolute;border-left: 1px solid gray;box-sizing: border-box;top: 0;bottom: 0;left: 50%;z-index: 0;}#sk-container-id-1 div.sk-serial {display: flex;flex-direction: column;align-items: center;background-color: white;padding-right: 0.2em;padding-left: 0.2em;position: relative;}#sk-container-id-1 div.sk-item {position: relative;z-index: 1;}#sk-container-id-1 div.sk-parallel {display: flex;align-items: stretch;justify-content: center;background-color: white;position: relative;}#sk-container-id-1 div.sk-item::before, #sk-container-id-1 div.sk-parallel-item::before {content: \"\";position: absolute;border-left: 1px solid gray;box-sizing: border-box;top: 0;bottom: 0;left: 50%;z-index: -1;}#sk-container-id-1 div.sk-parallel-item {display: flex;flex-direction: column;z-index: 1;position: relative;background-color: white;}#sk-container-id-1 div.sk-parallel-item:first-child::after {align-self: flex-end;width: 50%;}#sk-container-id-1 div.sk-parallel-item:last-child::after {align-self: flex-start;width: 50%;}#sk-container-id-1 div.sk-parallel-item:only-child::after {width: 0;}#sk-container-id-1 div.sk-dashed-wrapped {border: 1px dashed gray;margin: 0 0.4em 0.5em 0.4em;box-sizing: border-box;padding-bottom: 0.4em;background-color: white;}#sk-container-id-1 div.sk-label label {font-family: monospace;font-weight: bold;display: inline-block;line-height: 1.2em;}#sk-container-id-1 div.sk-label-container {text-align: center;}#sk-container-id-1 div.sk-container {/* jupyter's `normalize.less` sets `[hidden] { display: none; }` but bootstrap.min.css set `[hidden] { display: none !important; }` so we also need the `!important` here to be able to override the default hidden behavior on the sphinx rendered scikit-learn.org. See: https://github.com/scikit-learn/scikit-learn/issues/21755 */display: inline-block !important;position: relative;}#sk-container-id-1 div.sk-text-repr-fallback {display: none;}</style><div id=\"sk-container-id-1\" class=\"sk-top-container\"><div class=\"sk-text-repr-fallback\"><pre>KNeighborsClassifier(algorithm=&#x27;ball_tree&#x27;, n_neighbors=15)</pre><b>In a Jupyter environment, please rerun this cell to show the HTML representation or trust the notebook. <br />On GitHub, the HTML representation is unable to render, please try loading this page with nbviewer.org.</b></div><div class=\"sk-container\" hidden><div class=\"sk-item\"><div class=\"sk-estimator sk-toggleable\"><input class=\"sk-toggleable__control sk-hidden--visually\" id=\"sk-estimator-id-1\" type=\"checkbox\" checked><label for=\"sk-estimator-id-1\" class=\"sk-toggleable__label sk-toggleable__label-arrow\">KNeighborsClassifier</label><div class=\"sk-toggleable__content\"><pre>KNeighborsClassifier(algorithm=&#x27;ball_tree&#x27;, n_neighbors=15)</pre></div></div></div></div></div>"
      ],
      "text/plain": [
       "KNeighborsClassifier(algorithm='ball_tree', n_neighbors=15)"
      ]
     },
     "execution_count": 22,
     "metadata": {},
     "output_type": "execute_result"
    }
   ],
   "source": [
    "model_Tree_1_tt.fit(X_train_tt, y_train_tt)\n",
    "model_Tree_2_tt.fit(X_train_tt, y_train_tt)\n",
    "model_KNN_1_tt.fit(X_train_tt, y_train_tt)\n",
    "model_KNN_2_tt.fit(X_train_tt, y_train_tt)"
   ]
  },
  {
   "cell_type": "code",
   "execution_count": 23,
   "id": "e39dcc1f",
   "metadata": {},
   "outputs": [],
   "source": [
    "result_tt_Tree_1 = model_Tree_1_tt.predict(X_test_tt)\n",
    "result_tt_Tree_2 = model_Tree_2_tt.predict(X_test_tt)\n",
    "result_tt_KNN_1 = model_KNN_1_tt.predict(X_test_tt)\n",
    "result_tt_KNN_2 = model_KNN_2_tt.predict(X_test_tt)"
   ]
  },
  {
   "cell_type": "markdown",
   "id": "89cf881d",
   "metadata": {},
   "source": [
    "#### Resultado Final ao aplicar os Modelos"
   ]
  },
  {
   "cell_type": "code",
   "execution_count": 24,
   "id": "1cacc961",
   "metadata": {},
   "outputs": [
    {
     "name": "stdout",
     "output_type": "stream",
     "text": [
      "Precisão Tree 1: 100%\n",
      "Precisão Tree 2: 100%\n",
      "Precisão KNN 1: 98%\n",
      "Precisão KNN 2: 95%\n"
     ]
    }
   ],
   "source": [
    "precisao_tt_Tree_1 = metrics.accuracy_score(result_tt_Tree_1, y_test_tt)\n",
    "show1_tt = round(precisao_tt_Tree_1 * 100)\n",
    "print(f\"Precisão Tree 1: {show1_tt}%\")\n",
    "\n",
    "precisao_tt_Tree_2 = metrics.accuracy_score(result_tt_Tree_2, y_test_tt)\n",
    "show2_tt = round(precisao_tt_Tree_2 * 100)\n",
    "print(f\"Precisão Tree 2: {show2_tt}%\")\n",
    "\n",
    "\n",
    "precisao_tt_KNN_1 = metrics.accuracy_score(result_tt_KNN_1, y_test_tt)\n",
    "show3_tt = round(precisao_tt_KNN_1 * 100)\n",
    "print(f\"Precisão KNN 1: {show3_tt}%\")\n",
    "\n",
    "precisao_tt_KNN_2 = metrics.accuracy_score(result_tt_KNN_2, y_test_tt)\n",
    "show4_tt = round(precisao_tt_KNN_2 * 100)\n",
    "print(f\"Precisão KNN 2: {show4_tt}%\")"
   ]
  },
  {
   "cell_type": "markdown",
   "id": "14d93d45",
   "metadata": {},
   "source": [
    "## Dataset Transfusão em github tmoura"
   ]
  },
  {
   "cell_type": "code",
   "execution_count": 25,
   "id": "6350e967",
   "metadata": {},
   "outputs": [],
   "source": [
    "df_transfusao = pd.read_csv(\"https://raw.githubusercontent.com/tmoura/machinelearning/master/transfusion.data\", header = None)"
   ]
  },
  {
   "cell_type": "code",
   "execution_count": 26,
   "id": "a2f1c3a2",
   "metadata": {},
   "outputs": [],
   "source": [
    "df_transfusao_mod = df_transfusao"
   ]
  },
  {
   "cell_type": "code",
   "execution_count": 47,
   "id": "d795bfba",
   "metadata": {},
   "outputs": [
    {
     "name": "stdout",
     "output_type": "stream",
     "text": [
      "<class 'pandas.core.frame.DataFrame'>\n",
      "RangeIndex: 748 entries, 0 to 747\n",
      "Data columns (total 5 columns):\n",
      " #   Column  Non-Null Count  Dtype  \n",
      "---  ------  --------------  -----  \n",
      " 0   0       748 non-null    int64  \n",
      " 1   1       748 non-null    float64\n",
      " 2   2       748 non-null    float64\n",
      " 3   3       748 non-null    float64\n",
      " 4   4       748 non-null    float64\n",
      "dtypes: float64(4), int64(1)\n",
      "memory usage: 29.3 KB\n"
     ]
    }
   ],
   "source": [
    "df_transfusao_mod.info()"
   ]
  },
  {
   "cell_type": "code",
   "execution_count": 48,
   "id": "fd64a566",
   "metadata": {
    "scrolled": false
   },
   "outputs": [
    {
     "data": {
      "text/html": [
       "<div>\n",
       "<style scoped>\n",
       "    .dataframe tbody tr th:only-of-type {\n",
       "        vertical-align: middle;\n",
       "    }\n",
       "\n",
       "    .dataframe tbody tr th {\n",
       "        vertical-align: top;\n",
       "    }\n",
       "\n",
       "    .dataframe thead th {\n",
       "        text-align: right;\n",
       "    }\n",
       "</style>\n",
       "<table border=\"1\" class=\"dataframe\">\n",
       "  <thead>\n",
       "    <tr style=\"text-align: right;\">\n",
       "      <th></th>\n",
       "      <th>0</th>\n",
       "      <th>1</th>\n",
       "      <th>2</th>\n",
       "      <th>3</th>\n",
       "      <th>4</th>\n",
       "    </tr>\n",
       "  </thead>\n",
       "  <tbody>\n",
       "    <tr>\n",
       "      <th>0</th>\n",
       "      <td>1</td>\n",
       "      <td>0.027027</td>\n",
       "      <td>1.000000</td>\n",
       "      <td>1.000000</td>\n",
       "      <td>1.000000</td>\n",
       "    </tr>\n",
       "    <tr>\n",
       "      <th>1</th>\n",
       "      <td>1</td>\n",
       "      <td>0.000000</td>\n",
       "      <td>0.244898</td>\n",
       "      <td>0.244898</td>\n",
       "      <td>0.270833</td>\n",
       "    </tr>\n",
       "    <tr>\n",
       "      <th>2</th>\n",
       "      <td>1</td>\n",
       "      <td>0.013514</td>\n",
       "      <td>0.306122</td>\n",
       "      <td>0.306122</td>\n",
       "      <td>0.343750</td>\n",
       "    </tr>\n",
       "    <tr>\n",
       "      <th>3</th>\n",
       "      <td>1</td>\n",
       "      <td>0.027027</td>\n",
       "      <td>0.387755</td>\n",
       "      <td>0.387755</td>\n",
       "      <td>0.447917</td>\n",
       "    </tr>\n",
       "    <tr>\n",
       "      <th>4</th>\n",
       "      <td>2</td>\n",
       "      <td>0.013514</td>\n",
       "      <td>0.469388</td>\n",
       "      <td>0.469388</td>\n",
       "      <td>0.781250</td>\n",
       "    </tr>\n",
       "    <tr>\n",
       "      <th>...</th>\n",
       "      <td>...</td>\n",
       "      <td>...</td>\n",
       "      <td>...</td>\n",
       "      <td>...</td>\n",
       "      <td>...</td>\n",
       "    </tr>\n",
       "    <tr>\n",
       "      <th>743</th>\n",
       "      <td>2</td>\n",
       "      <td>0.310811</td>\n",
       "      <td>0.020408</td>\n",
       "      <td>0.020408</td>\n",
       "      <td>0.375000</td>\n",
       "    </tr>\n",
       "    <tr>\n",
       "      <th>744</th>\n",
       "      <td>2</td>\n",
       "      <td>0.283784</td>\n",
       "      <td>0.020408</td>\n",
       "      <td>0.020408</td>\n",
       "      <td>0.520833</td>\n",
       "    </tr>\n",
       "    <tr>\n",
       "      <th>745</th>\n",
       "      <td>2</td>\n",
       "      <td>0.310811</td>\n",
       "      <td>0.040816</td>\n",
       "      <td>0.040816</td>\n",
       "      <td>0.625000</td>\n",
       "    </tr>\n",
       "    <tr>\n",
       "      <th>746</th>\n",
       "      <td>2</td>\n",
       "      <td>0.527027</td>\n",
       "      <td>0.000000</td>\n",
       "      <td>0.000000</td>\n",
       "      <td>0.385417</td>\n",
       "    </tr>\n",
       "    <tr>\n",
       "      <th>747</th>\n",
       "      <td>2</td>\n",
       "      <td>0.972973</td>\n",
       "      <td>0.000000</td>\n",
       "      <td>0.000000</td>\n",
       "      <td>0.729167</td>\n",
       "    </tr>\n",
       "  </tbody>\n",
       "</table>\n",
       "<p>748 rows × 5 columns</p>\n",
       "</div>"
      ],
      "text/plain": [
       "     0         1         2         3         4\n",
       "0    1  0.027027  1.000000  1.000000  1.000000\n",
       "1    1  0.000000  0.244898  0.244898  0.270833\n",
       "2    1  0.013514  0.306122  0.306122  0.343750\n",
       "3    1  0.027027  0.387755  0.387755  0.447917\n",
       "4    2  0.013514  0.469388  0.469388  0.781250\n",
       "..  ..       ...       ...       ...       ...\n",
       "743  2  0.310811  0.020408  0.020408  0.375000\n",
       "744  2  0.283784  0.020408  0.020408  0.520833\n",
       "745  2  0.310811  0.040816  0.040816  0.625000\n",
       "746  2  0.527027  0.000000  0.000000  0.385417\n",
       "747  2  0.972973  0.000000  0.000000  0.729167\n",
       "\n",
       "[748 rows x 5 columns]"
      ]
     },
     "execution_count": 48,
     "metadata": {},
     "output_type": "execute_result"
    }
   ],
   "source": [
    "for i in range(1,5):\n",
    "    df_transfusao_mod[i] = MinMaxScaler().fit_transform(np.array(df_transfusao_mod[i]).reshape(-1,1))\n",
    "df_transfusao_mod"
   ]
  },
  {
   "cell_type": "code",
   "execution_count": 49,
   "id": "d8674ea8",
   "metadata": {},
   "outputs": [],
   "source": [
    "X_trn = df_transfusao_mod.loc[:,1:]\n",
    "y_trn = df_transfusao_mod[0]"
   ]
  },
  {
   "cell_type": "code",
   "execution_count": 50,
   "id": "5bb85f60",
   "metadata": {},
   "outputs": [
    {
     "data": {
      "text/html": [
       "<div>\n",
       "<style scoped>\n",
       "    .dataframe tbody tr th:only-of-type {\n",
       "        vertical-align: middle;\n",
       "    }\n",
       "\n",
       "    .dataframe tbody tr th {\n",
       "        vertical-align: top;\n",
       "    }\n",
       "\n",
       "    .dataframe thead th {\n",
       "        text-align: right;\n",
       "    }\n",
       "</style>\n",
       "<table border=\"1\" class=\"dataframe\">\n",
       "  <thead>\n",
       "    <tr style=\"text-align: right;\">\n",
       "      <th></th>\n",
       "      <th>1</th>\n",
       "      <th>2</th>\n",
       "      <th>3</th>\n",
       "      <th>4</th>\n",
       "    </tr>\n",
       "  </thead>\n",
       "  <tbody>\n",
       "    <tr>\n",
       "      <th>0</th>\n",
       "      <td>0.027027</td>\n",
       "      <td>1.000000</td>\n",
       "      <td>1.000000</td>\n",
       "      <td>1.000000</td>\n",
       "    </tr>\n",
       "    <tr>\n",
       "      <th>1</th>\n",
       "      <td>0.000000</td>\n",
       "      <td>0.244898</td>\n",
       "      <td>0.244898</td>\n",
       "      <td>0.270833</td>\n",
       "    </tr>\n",
       "    <tr>\n",
       "      <th>2</th>\n",
       "      <td>0.013514</td>\n",
       "      <td>0.306122</td>\n",
       "      <td>0.306122</td>\n",
       "      <td>0.343750</td>\n",
       "    </tr>\n",
       "    <tr>\n",
       "      <th>3</th>\n",
       "      <td>0.027027</td>\n",
       "      <td>0.387755</td>\n",
       "      <td>0.387755</td>\n",
       "      <td>0.447917</td>\n",
       "    </tr>\n",
       "    <tr>\n",
       "      <th>4</th>\n",
       "      <td>0.013514</td>\n",
       "      <td>0.469388</td>\n",
       "      <td>0.469388</td>\n",
       "      <td>0.781250</td>\n",
       "    </tr>\n",
       "    <tr>\n",
       "      <th>...</th>\n",
       "      <td>...</td>\n",
       "      <td>...</td>\n",
       "      <td>...</td>\n",
       "      <td>...</td>\n",
       "    </tr>\n",
       "    <tr>\n",
       "      <th>743</th>\n",
       "      <td>0.310811</td>\n",
       "      <td>0.020408</td>\n",
       "      <td>0.020408</td>\n",
       "      <td>0.375000</td>\n",
       "    </tr>\n",
       "    <tr>\n",
       "      <th>744</th>\n",
       "      <td>0.283784</td>\n",
       "      <td>0.020408</td>\n",
       "      <td>0.020408</td>\n",
       "      <td>0.520833</td>\n",
       "    </tr>\n",
       "    <tr>\n",
       "      <th>745</th>\n",
       "      <td>0.310811</td>\n",
       "      <td>0.040816</td>\n",
       "      <td>0.040816</td>\n",
       "      <td>0.625000</td>\n",
       "    </tr>\n",
       "    <tr>\n",
       "      <th>746</th>\n",
       "      <td>0.527027</td>\n",
       "      <td>0.000000</td>\n",
       "      <td>0.000000</td>\n",
       "      <td>0.385417</td>\n",
       "    </tr>\n",
       "    <tr>\n",
       "      <th>747</th>\n",
       "      <td>0.972973</td>\n",
       "      <td>0.000000</td>\n",
       "      <td>0.000000</td>\n",
       "      <td>0.729167</td>\n",
       "    </tr>\n",
       "  </tbody>\n",
       "</table>\n",
       "<p>748 rows × 4 columns</p>\n",
       "</div>"
      ],
      "text/plain": [
       "            1         2         3         4\n",
       "0    0.027027  1.000000  1.000000  1.000000\n",
       "1    0.000000  0.244898  0.244898  0.270833\n",
       "2    0.013514  0.306122  0.306122  0.343750\n",
       "3    0.027027  0.387755  0.387755  0.447917\n",
       "4    0.013514  0.469388  0.469388  0.781250\n",
       "..        ...       ...       ...       ...\n",
       "743  0.310811  0.020408  0.020408  0.375000\n",
       "744  0.283784  0.020408  0.020408  0.520833\n",
       "745  0.310811  0.040816  0.040816  0.625000\n",
       "746  0.527027  0.000000  0.000000  0.385417\n",
       "747  0.972973  0.000000  0.000000  0.729167\n",
       "\n",
       "[748 rows x 4 columns]"
      ]
     },
     "execution_count": 50,
     "metadata": {},
     "output_type": "execute_result"
    }
   ],
   "source": [
    "X_trn"
   ]
  },
  {
   "cell_type": "code",
   "execution_count": 51,
   "id": "d5bc3bb6",
   "metadata": {},
   "outputs": [
    {
     "data": {
      "text/plain": [
       "0      1\n",
       "1      1\n",
       "2      1\n",
       "3      1\n",
       "4      2\n",
       "      ..\n",
       "743    2\n",
       "744    2\n",
       "745    2\n",
       "746    2\n",
       "747    2\n",
       "Name: 0, Length: 748, dtype: int64"
      ]
     },
     "execution_count": 51,
     "metadata": {},
     "output_type": "execute_result"
    }
   ],
   "source": [
    "y_trn"
   ]
  },
  {
   "cell_type": "code",
   "execution_count": 52,
   "id": "2cf0fad3",
   "metadata": {},
   "outputs": [],
   "source": [
    "X_train_trn, X_test_trn, y_train_trn, y_test_trn = train_test_split(X_trn, y_trn, test_size=0.2, random_state=None, stratify = y_trn) # 80% treino e 20% teste"
   ]
  },
  {
   "cell_type": "code",
   "execution_count": 53,
   "id": "53e0bcbc",
   "metadata": {},
   "outputs": [],
   "source": [
    "model_Tree_1_trn = DecisionTreeClassifier(criterion = \"entropy\", max_depth = 5)\n",
    "model_Tree_2_trn = DecisionTreeClassifier(criterion = \"log_loss\", max_depth = 15)\n",
    "model_KNN_1_trn = KNeighborsClassifier(n_neighbors = 5, metric = \"euclidean\", algorithm = 'brute')\n",
    "model_KNN_2_trn = KNeighborsClassifier(n_neighbors = 15, metric = \"minkowski\", algorithm = 'ball_tree')"
   ]
  },
  {
   "cell_type": "code",
   "execution_count": 54,
   "id": "98028d8c",
   "metadata": {},
   "outputs": [
    {
     "data": {
      "text/html": [
       "<style>#sk-container-id-4 {color: black;background-color: white;}#sk-container-id-4 pre{padding: 0;}#sk-container-id-4 div.sk-toggleable {background-color: white;}#sk-container-id-4 label.sk-toggleable__label {cursor: pointer;display: block;width: 100%;margin-bottom: 0;padding: 0.3em;box-sizing: border-box;text-align: center;}#sk-container-id-4 label.sk-toggleable__label-arrow:before {content: \"▸\";float: left;margin-right: 0.25em;color: #696969;}#sk-container-id-4 label.sk-toggleable__label-arrow:hover:before {color: black;}#sk-container-id-4 div.sk-estimator:hover label.sk-toggleable__label-arrow:before {color: black;}#sk-container-id-4 div.sk-toggleable__content {max-height: 0;max-width: 0;overflow: hidden;text-align: left;background-color: #f0f8ff;}#sk-container-id-4 div.sk-toggleable__content pre {margin: 0.2em;color: black;border-radius: 0.25em;background-color: #f0f8ff;}#sk-container-id-4 input.sk-toggleable__control:checked~div.sk-toggleable__content {max-height: 200px;max-width: 100%;overflow: auto;}#sk-container-id-4 input.sk-toggleable__control:checked~label.sk-toggleable__label-arrow:before {content: \"▾\";}#sk-container-id-4 div.sk-estimator input.sk-toggleable__control:checked~label.sk-toggleable__label {background-color: #d4ebff;}#sk-container-id-4 div.sk-label input.sk-toggleable__control:checked~label.sk-toggleable__label {background-color: #d4ebff;}#sk-container-id-4 input.sk-hidden--visually {border: 0;clip: rect(1px 1px 1px 1px);clip: rect(1px, 1px, 1px, 1px);height: 1px;margin: -1px;overflow: hidden;padding: 0;position: absolute;width: 1px;}#sk-container-id-4 div.sk-estimator {font-family: monospace;background-color: #f0f8ff;border: 1px dotted black;border-radius: 0.25em;box-sizing: border-box;margin-bottom: 0.5em;}#sk-container-id-4 div.sk-estimator:hover {background-color: #d4ebff;}#sk-container-id-4 div.sk-parallel-item::after {content: \"\";width: 100%;border-bottom: 1px solid gray;flex-grow: 1;}#sk-container-id-4 div.sk-label:hover label.sk-toggleable__label {background-color: #d4ebff;}#sk-container-id-4 div.sk-serial::before {content: \"\";position: absolute;border-left: 1px solid gray;box-sizing: border-box;top: 0;bottom: 0;left: 50%;z-index: 0;}#sk-container-id-4 div.sk-serial {display: flex;flex-direction: column;align-items: center;background-color: white;padding-right: 0.2em;padding-left: 0.2em;position: relative;}#sk-container-id-4 div.sk-item {position: relative;z-index: 1;}#sk-container-id-4 div.sk-parallel {display: flex;align-items: stretch;justify-content: center;background-color: white;position: relative;}#sk-container-id-4 div.sk-item::before, #sk-container-id-4 div.sk-parallel-item::before {content: \"\";position: absolute;border-left: 1px solid gray;box-sizing: border-box;top: 0;bottom: 0;left: 50%;z-index: -1;}#sk-container-id-4 div.sk-parallel-item {display: flex;flex-direction: column;z-index: 1;position: relative;background-color: white;}#sk-container-id-4 div.sk-parallel-item:first-child::after {align-self: flex-end;width: 50%;}#sk-container-id-4 div.sk-parallel-item:last-child::after {align-self: flex-start;width: 50%;}#sk-container-id-4 div.sk-parallel-item:only-child::after {width: 0;}#sk-container-id-4 div.sk-dashed-wrapped {border: 1px dashed gray;margin: 0 0.4em 0.5em 0.4em;box-sizing: border-box;padding-bottom: 0.4em;background-color: white;}#sk-container-id-4 div.sk-label label {font-family: monospace;font-weight: bold;display: inline-block;line-height: 1.2em;}#sk-container-id-4 div.sk-label-container {text-align: center;}#sk-container-id-4 div.sk-container {/* jupyter's `normalize.less` sets `[hidden] { display: none; }` but bootstrap.min.css set `[hidden] { display: none !important; }` so we also need the `!important` here to be able to override the default hidden behavior on the sphinx rendered scikit-learn.org. See: https://github.com/scikit-learn/scikit-learn/issues/21755 */display: inline-block !important;position: relative;}#sk-container-id-4 div.sk-text-repr-fallback {display: none;}</style><div id=\"sk-container-id-4\" class=\"sk-top-container\"><div class=\"sk-text-repr-fallback\"><pre>KNeighborsClassifier(algorithm=&#x27;ball_tree&#x27;, n_neighbors=15)</pre><b>In a Jupyter environment, please rerun this cell to show the HTML representation or trust the notebook. <br />On GitHub, the HTML representation is unable to render, please try loading this page with nbviewer.org.</b></div><div class=\"sk-container\" hidden><div class=\"sk-item\"><div class=\"sk-estimator sk-toggleable\"><input class=\"sk-toggleable__control sk-hidden--visually\" id=\"sk-estimator-id-4\" type=\"checkbox\" checked><label for=\"sk-estimator-id-4\" class=\"sk-toggleable__label sk-toggleable__label-arrow\">KNeighborsClassifier</label><div class=\"sk-toggleable__content\"><pre>KNeighborsClassifier(algorithm=&#x27;ball_tree&#x27;, n_neighbors=15)</pre></div></div></div></div></div>"
      ],
      "text/plain": [
       "KNeighborsClassifier(algorithm='ball_tree', n_neighbors=15)"
      ]
     },
     "execution_count": 54,
     "metadata": {},
     "output_type": "execute_result"
    }
   ],
   "source": [
    "model_Tree_1_trn.fit(X_train_trn, y_train_trn)\n",
    "model_Tree_2_trn.fit(X_train_trn, y_train_trn)\n",
    "model_KNN_1_trn.fit(X_train_trn, y_train_trn)\n",
    "model_KNN_2_trn.fit(X_train_trn, y_train_trn)"
   ]
  },
  {
   "cell_type": "code",
   "execution_count": 55,
   "id": "a48deff8",
   "metadata": {},
   "outputs": [],
   "source": [
    "result_trn_Tree_1 = model_Tree_1_trn.predict(X_test_trn)\n",
    "result_trn_Tree_2 = model_Tree_2_trn.predict(X_test_trn)\n",
    "result_trn_KNN_1 = model_KNN_1_trn.predict(X_test_trn)\n",
    "result_trn_KNN_2 = model_KNN_2_trn.predict(X_test_trn)"
   ]
  },
  {
   "cell_type": "code",
   "execution_count": 56,
   "id": "fc92a707",
   "metadata": {},
   "outputs": [
    {
     "name": "stdout",
     "output_type": "stream",
     "text": [
      "Precisão Tree 1: 83%\n",
      "Precisão Tree 2: 71%\n",
      "Precisão KNN 1: 78%\n",
      "Precisão KNN 2: 81%\n"
     ]
    }
   ],
   "source": [
    "precisao_trn_Tree_1 = metrics.accuracy_score(result_trn_Tree_1, y_test_trn)\n",
    "show1_trn = round(precisao_trn_Tree_1 * 100)\n",
    "print(f\"Precisão Tree 1: {show1_trn}%\")\n",
    "\n",
    "precisao_trn_Tree_2 = metrics.accuracy_score(result_trn_Tree_2, y_test_trn)\n",
    "show2_trn = round(precisao_trn_Tree_2 * 100)\n",
    "print(f\"Precisão Tree 2: {show2_trn}%\")\n",
    "\n",
    "\n",
    "precisao_trn_KNN_1 = metrics.accuracy_score(result_trn_KNN_1, y_test_trn)\n",
    "show3_trn = round(precisao_trn_KNN_1 * 100)\n",
    "print(f\"Precisão KNN 1: {show3_trn}%\")\n",
    "\n",
    "precisao_trn_KNN_2 = metrics.accuracy_score(result_trn_KNN_2, y_test_trn)\n",
    "show4_trn = round(precisao_trn_KNN_2 * 100)\n",
    "print(f\"Precisão KNN 2: {show4_trn}%\")"
   ]
  }
 ],
 "metadata": {
  "kernelspec": {
   "display_name": "Python 3 (ipykernel)",
   "language": "python",
   "name": "python3"
  },
  "language_info": {
   "codemirror_mode": {
    "name": "ipython",
    "version": 3
   },
   "file_extension": ".py",
   "mimetype": "text/x-python",
   "name": "python",
   "nbconvert_exporter": "python",
   "pygments_lexer": "ipython3",
   "version": "3.11.3"
  }
 },
 "nbformat": 4,
 "nbformat_minor": 5
}
